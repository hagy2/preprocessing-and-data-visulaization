{
  "nbformat": 4,
  "nbformat_minor": 0,
  "metadata": {
    "colab": {
      "provenance": []
    },
    "kernelspec": {
      "name": "python3",
      "display_name": "Python 3"
    },
    "language_info": {
      "name": "python"
    }
  },
  "cells": [
    {
      "cell_type": "code",
      "execution_count": null,
      "metadata": {
        "id": "yGm9SgEgC4ob"
      },
      "outputs": [],
      "source": [
        "#imports\n",
        "import pandas as pd\n",
        "import matplotlib.pyplot as plt\n",
        "from sklearn.decomposition import PCA\n",
        "import numpy as np\n",
        "from sklearn.preprocessing import StandardScaler"
      ]
    },
    {
      "cell_type": "code",
      "source": [
        "#read data file\n",
        "thyroid_data= pd.read_csv(\"thyroidDF.csv\")\n",
        "print(thyroid_data)#print all data"
      ],
      "metadata": {
        "colab": {
          "base_uri": "https://localhost:8080/"
        },
        "id": "3aYf0tp-DxbT",
        "outputId": "8500aa86-0d0a-447a-d726-bdf29637c053"
      },
      "execution_count": null,
      "outputs": [
        {
          "output_type": "stream",
          "name": "stdout",
          "text": [
            "      age sex on_thyroxine query_on_thyroxine on_antithyroid_meds sick  \\\n",
            "0      29   F            f                  f                   f    f   \n",
            "1      29   F            f                  f                   f    f   \n",
            "2      41   F            f                  f                   f    f   \n",
            "3      36   F            f                  f                   f    f   \n",
            "4      32   F            f                  f                   f    f   \n",
            "...   ...  ..          ...                ...                 ...  ...   \n",
            "9167   56   M            f                  f                   f    f   \n",
            "9168   22   M            f                  f                   f    f   \n",
            "9169   69   M            f                  f                   f    f   \n",
            "9170   47   F            f                  f                   f    f   \n",
            "9171   31   M            f                  f                   f    f   \n",
            "\n",
            "     pregnant thyroid_surgery I131_treatment query_hypothyroid  ...    TT4  \\\n",
            "0           f               f              f                 t  ...    NaN   \n",
            "1           f               f              f                 f  ...  128.0   \n",
            "2           f               f              f                 f  ...    NaN   \n",
            "3           f               f              f                 f  ...    NaN   \n",
            "4           f               f              f                 f  ...    NaN   \n",
            "...       ...             ...            ...               ...  ...    ...   \n",
            "9167        f               f              f                 f  ...   64.0   \n",
            "9168        f               f              f                 f  ...   91.0   \n",
            "9169        f               f              f                 f  ...  113.0   \n",
            "9170        f               f              f                 f  ...   75.0   \n",
            "9171        f               f              f                 t  ...   66.0   \n",
            "\n",
            "     T4U_measured   T4U FTI_measured   FTI TBG_measured   TBG  \\\n",
            "0               f   NaN            f   NaN            f   NaN   \n",
            "1               f   NaN            f   NaN            f   NaN   \n",
            "2               f   NaN            f   NaN            t  11.0   \n",
            "3               f   NaN            f   NaN            t  26.0   \n",
            "4               f   NaN            f   NaN            t  36.0   \n",
            "...           ...   ...          ...   ...          ...   ...   \n",
            "9167            t  0.83            t  77.0            f   NaN   \n",
            "9168            t  0.92            t  99.0            f   NaN   \n",
            "9169            t  1.27            t  89.0            f   NaN   \n",
            "9170            t  0.85            t  88.0            f   NaN   \n",
            "9171            t  1.02            t  65.0            f   NaN   \n",
            "\n",
            "      referral_source target  patient_id  \n",
            "0               other      -   840801013  \n",
            "1               other      -   840801014  \n",
            "2               other      -   840801042  \n",
            "3               other      -   840803046  \n",
            "4               other      S   840803047  \n",
            "...               ...    ...         ...  \n",
            "9167              SVI      -   870119022  \n",
            "9168              SVI      -   870119023  \n",
            "9169              SVI      I   870119025  \n",
            "9170            other      -   870119027  \n",
            "9171            other      -   870119035  \n",
            "\n",
            "[9172 rows x 31 columns]\n"
          ]
        }
      ]
    },
    {
      "cell_type": "code",
      "source": [
        "\n",
        "\n",
        "#show first and last 10 rows\n",
        "print(\"first 10 rows\",thyroid_data.head(10))\n",
        "print(\"last 10 rows\",thyroid_data.tail(10))"
      ],
      "metadata": {
        "colab": {
          "base_uri": "https://localhost:8080/"
        },
        "id": "piOP60AwDhlX",
        "outputId": "dda1f817-8347-43f1-ed12-e3c405ba6e24"
      },
      "execution_count": null,
      "outputs": [
        {
          "output_type": "stream",
          "name": "stdout",
          "text": [
            "first 10 rows    age sex on_thyroxine query_on_thyroxine on_antithyroid_meds sick pregnant  \\\n",
            "0   29   F            f                  f                   f    f        f   \n",
            "1   29   F            f                  f                   f    f        f   \n",
            "2   41   F            f                  f                   f    f        f   \n",
            "3   36   F            f                  f                   f    f        f   \n",
            "4   32   F            f                  f                   f    f        f   \n",
            "5   60   F            f                  f                   f    f        f   \n",
            "6   77   F            f                  f                   f    f        f   \n",
            "7   28   F            f                  f                   f    f        f   \n",
            "8   28   F            f                  f                   f    f        f   \n",
            "9   28   F            f                  f                   f    f        f   \n",
            "\n",
            "  thyroid_surgery I131_treatment query_hypothyroid  ...    TT4 T4U_measured  \\\n",
            "0               f              f                 t  ...    NaN            f   \n",
            "1               f              f                 f  ...  128.0            f   \n",
            "2               f              f                 f  ...    NaN            f   \n",
            "3               f              f                 f  ...    NaN            f   \n",
            "4               f              f                 f  ...    NaN            f   \n",
            "5               f              f                 f  ...    NaN            f   \n",
            "6               f              f                 f  ...    NaN            f   \n",
            "7               f              f                 f  ...  116.0            f   \n",
            "8               f              f                 f  ...   76.0            f   \n",
            "9               f              f                 f  ...   83.0            f   \n",
            "\n",
            "  T4U FTI_measured FTI TBG_measured   TBG  referral_source target  patient_id  \n",
            "0 NaN            f NaN            f   NaN            other      -   840801013  \n",
            "1 NaN            f NaN            f   NaN            other      -   840801014  \n",
            "2 NaN            f NaN            t  11.0            other      -   840801042  \n",
            "3 NaN            f NaN            t  26.0            other      -   840803046  \n",
            "4 NaN            f NaN            t  36.0            other      S   840803047  \n",
            "5 NaN            f NaN            t  26.0            other      -   840803048  \n",
            "6 NaN            f NaN            t  21.0            other      -   840803068  \n",
            "7 NaN            f NaN            f   NaN              SVI      -   840807019  \n",
            "8 NaN            f NaN            f   NaN            other      -   840808060  \n",
            "9 NaN            f NaN            f   NaN            other      -   840808073  \n",
            "\n",
            "[10 rows x 31 columns]\n",
            "last 10 rows       age sex on_thyroxine query_on_thyroxine on_antithyroid_meds sick  \\\n",
            "9162   36   F            f                  f                   f    f   \n",
            "9163   69   F            t                  f                   f    f   \n",
            "9164   40   F            f                  f                   f    f   \n",
            "9165   33   F            f                  f                   f    f   \n",
            "9166   70   F            f                  f                   f    f   \n",
            "9167   56   M            f                  f                   f    f   \n",
            "9168   22   M            f                  f                   f    f   \n",
            "9169   69   M            f                  f                   f    f   \n",
            "9170   47   F            f                  f                   f    f   \n",
            "9171   31   M            f                  f                   f    f   \n",
            "\n",
            "     pregnant thyroid_surgery I131_treatment query_hypothyroid  ...    TT4  \\\n",
            "9162        f               f              f                 f  ...   84.0   \n",
            "9163        f               f              f                 f  ...   94.0   \n",
            "9164        f               f              f                 f  ...   67.0   \n",
            "9165        f               f              f                 f  ...   76.0   \n",
            "9166        f               f              f                 f  ...   88.0   \n",
            "9167        f               f              f                 f  ...   64.0   \n",
            "9168        f               f              f                 f  ...   91.0   \n",
            "9169        f               f              f                 f  ...  113.0   \n",
            "9170        f               f              f                 f  ...   75.0   \n",
            "9171        f               f              f                 t  ...   66.0   \n",
            "\n",
            "     T4U_measured   T4U FTI_measured    FTI TBG_measured TBG  referral_source  \\\n",
            "9162            t  1.26            t   67.0            f NaN            other   \n",
            "9163            t  0.94            t  100.0            f NaN              SVI   \n",
            "9164            t  0.79            t   85.0            f NaN            other   \n",
            "9165            t  0.66            t  115.0            f NaN            other   \n",
            "9166            t  0.74            t  119.0            f NaN              SVI   \n",
            "9167            t  0.83            t   77.0            f NaN              SVI   \n",
            "9168            t  0.92            t   99.0            f NaN              SVI   \n",
            "9169            t  1.27            t   89.0            f NaN              SVI   \n",
            "9170            t  0.85            t   88.0            f NaN            other   \n",
            "9171            t  1.02            t   65.0            f NaN            other   \n",
            "\n",
            "     target  patient_id  \n",
            "9162      I   870119008  \n",
            "9163      -   870119009  \n",
            "9164      -   870119019  \n",
            "9165      -   870119020  \n",
            "9166      -   870119021  \n",
            "9167      -   870119022  \n",
            "9168      -   870119023  \n",
            "9169      I   870119025  \n",
            "9170      -   870119027  \n",
            "9171      -   870119035  \n",
            "\n",
            "[10 rows x 31 columns]\n"
          ]
        }
      ]
    },
    {
      "cell_type": "code",
      "source": [
        "print(\"rows: \",thyroid_data.shape[0]) #print number of rows\n",
        "print(\"columns: \",thyroid_data.shape[1]) #print number of columns"
      ],
      "metadata": {
        "colab": {
          "base_uri": "https://localhost:8080/"
        },
        "id": "BAFU2FLTEEFf",
        "outputId": "31629b4b-2288-4f03-f2f7-4ab0aef56bef"
      },
      "execution_count": null,
      "outputs": [
        {
          "output_type": "stream",
          "name": "stdout",
          "text": [
            "rows:  9172\n",
            "columns:  31\n"
          ]
        }
      ]
    },
    {
      "cell_type": "code",
      "source": [
        "#  Print the name of all the columns.\n",
        "\n",
        "print(\"Column names:\", thyroid_data.columns.tolist())\n"
      ],
      "metadata": {
        "colab": {
          "base_uri": "https://localhost:8080/"
        },
        "id": "EJgtCI46EN1c",
        "outputId": "8b253b28-89fb-414c-ed20-ab514f72bfb9"
      },
      "execution_count": null,
      "outputs": [
        {
          "output_type": "stream",
          "name": "stdout",
          "text": [
            "Column names: ['age', 'sex', 'on_thyroxine', 'query_on_thyroxine', 'on_antithyroid_meds', 'sick', 'pregnant', 'thyroid_surgery', 'I131_treatment', 'query_hypothyroid', 'query_hyperthyroid', 'lithium', 'goitre', 'tumor', 'hypopituitary', 'psych', 'TSH_measured', 'TSH', 'T3_measured', 'T3', 'TT4_measured', 'TT4', 'T4U_measured', 'T4U', 'FTI_measured', 'FTI', 'TBG_measured', 'TBG', 'referral_source', 'target', 'patient_id']\n"
          ]
        }
      ]
    },
    {
      "cell_type": "code",
      "source": [
        "print(thyroid_data.columns[-1]) #print last column (patient_id)"
      ],
      "metadata": {
        "colab": {
          "base_uri": "https://localhost:8080/"
        },
        "id": "aet11kq1ER0E",
        "outputId": "2af77f5b-ab06-4875-9946-f50d59aea74d"
      },
      "execution_count": null,
      "outputs": [
        {
          "output_type": "stream",
          "name": "stdout",
          "text": [
            "patient_id\n"
          ]
        }
      ]
    },
    {
      "cell_type": "code",
      "source": [
        "#print general info about data_hager\n",
        "\n",
        "print(thyroid_data.info())"
      ],
      "metadata": {
        "colab": {
          "base_uri": "https://localhost:8080/"
        },
        "id": "BBJPIwIpEbDZ",
        "outputId": "645d4975-a865-43c5-baa8-8b2b637089b4"
      },
      "execution_count": null,
      "outputs": [
        {
          "output_type": "stream",
          "name": "stdout",
          "text": [
            "<class 'pandas.core.frame.DataFrame'>\n",
            "RangeIndex: 9172 entries, 0 to 9171\n",
            "Data columns (total 31 columns):\n",
            " #   Column               Non-Null Count  Dtype  \n",
            "---  ------               --------------  -----  \n",
            " 0   age                  9172 non-null   int64  \n",
            " 1   sex                  8865 non-null   object \n",
            " 2   on_thyroxine         9172 non-null   object \n",
            " 3   query_on_thyroxine   9172 non-null   object \n",
            " 4   on_antithyroid_meds  9172 non-null   object \n",
            " 5   sick                 9172 non-null   object \n",
            " 6   pregnant             9172 non-null   object \n",
            " 7   thyroid_surgery      9172 non-null   object \n",
            " 8   I131_treatment       9172 non-null   object \n",
            " 9   query_hypothyroid    9172 non-null   object \n",
            " 10  query_hyperthyroid   9172 non-null   object \n",
            " 11  lithium              9172 non-null   object \n",
            " 12  goitre               9172 non-null   object \n",
            " 13  tumor                9172 non-null   object \n",
            " 14  hypopituitary        9172 non-null   object \n",
            " 15  psych                9172 non-null   object \n",
            " 16  TSH_measured         9172 non-null   object \n",
            " 17  TSH                  8330 non-null   float64\n",
            " 18  T3_measured          9172 non-null   object \n",
            " 19  T3                   6568 non-null   float64\n",
            " 20  TT4_measured         9172 non-null   object \n",
            " 21  TT4                  8730 non-null   float64\n",
            " 22  T4U_measured         9172 non-null   object \n",
            " 23  T4U                  8363 non-null   float64\n",
            " 24  FTI_measured         9172 non-null   object \n",
            " 25  FTI                  8370 non-null   float64\n",
            " 26  TBG_measured         9172 non-null   object \n",
            " 27  TBG                  349 non-null    float64\n",
            " 28  referral_source      9172 non-null   object \n",
            " 29  target               9172 non-null   object \n",
            " 30  patient_id           9172 non-null   int64  \n",
            "dtypes: float64(6), int64(2), object(23)\n",
            "memory usage: 2.2+ MB\n",
            "None\n"
          ]
        }
      ]
    },
    {
      "cell_type": "code",
      "source": [
        "print( \"number of unique values: \",thyroid_data['sick'].nunique())#number of unique values in chosen column\n",
        "#print the unqiaue values in column,column_name,hager\n",
        "print(\"the unique values are: \",thyroid_data['sick'].unique())"
      ],
      "metadata": {
        "colab": {
          "base_uri": "https://localhost:8080/"
        },
        "id": "lTnQnbhaEg8u",
        "outputId": "95e2aef9-24e8-464b-cd4d-f48fc4bd2b34"
      },
      "execution_count": null,
      "outputs": [
        {
          "output_type": "stream",
          "name": "stdout",
          "text": [
            "number of unique values:  2\n",
            "the unique values are:  ['f' 't']\n"
          ]
        }
      ]
    },
    {
      "cell_type": "code",
      "source": [
        "print(\"most repeated: \",thyroid_data['sick'].mode()) #1-g"
      ],
      "metadata": {
        "colab": {
          "base_uri": "https://localhost:8080/"
        },
        "id": "McS98pOdEqXK",
        "outputId": "5cd326d6-4b7e-4d33-8ae8-a30ae9ab8625"
      },
      "execution_count": null,
      "outputs": [
        {
          "output_type": "stream",
          "name": "stdout",
          "text": [
            "most repeated:  0    f\n",
            "Name: sick, dtype: object\n"
          ]
        }
      ]
    },
    {
      "cell_type": "code",
      "source": [
        "\n",
        "thyroid_data.describe()#1-h"
      ],
      "metadata": {
        "colab": {
          "base_uri": "https://localhost:8080/",
          "height": 300
        },
        "id": "MDjX0H0IFUHt",
        "outputId": "c8f72d23-e193-4a8d-efc8-c7b2384b5844"
      },
      "execution_count": null,
      "outputs": [
        {
          "output_type": "execute_result",
          "data": {
            "text/plain": [
              "                age          TSH           T3          TT4          T4U  \\\n",
              "count   9172.000000  8330.000000  6568.000000  8730.000000  8363.000000   \n",
              "mean      73.555822     5.218403     1.970629   108.700305     0.976056   \n",
              "std     1183.976718    24.184006     0.887579    37.522670     0.200360   \n",
              "min        1.000000     0.005000     0.050000     2.000000     0.170000   \n",
              "25%       37.000000     0.460000     1.500000    87.000000     0.860000   \n",
              "50%       55.000000     1.400000     1.900000   104.000000     0.960000   \n",
              "75%       68.000000     2.700000     2.300000   126.000000     1.065000   \n",
              "max    65526.000000   530.000000    18.000000   600.000000     2.330000   \n",
              "\n",
              "               FTI         TBG    patient_id  \n",
              "count  8370.000000  349.000000  9.172000e+03  \n",
              "mean    113.640746   29.870057  8.529473e+08  \n",
              "std      41.551650   21.080504  7.581969e+06  \n",
              "min       1.400000    0.100000  8.408010e+08  \n",
              "25%      93.000000   21.000000  8.504090e+08  \n",
              "50%     109.000000   26.000000  8.510040e+08  \n",
              "75%     128.000000   31.000000  8.607110e+08  \n",
              "max     881.000000  200.000000  8.701190e+08  "
            ],
            "text/html": [
              "\n",
              "  <div id=\"df-46ee32af-3d68-4b6c-90af-27cdcaf83796\" class=\"colab-df-container\">\n",
              "    <div>\n",
              "<style scoped>\n",
              "    .dataframe tbody tr th:only-of-type {\n",
              "        vertical-align: middle;\n",
              "    }\n",
              "\n",
              "    .dataframe tbody tr th {\n",
              "        vertical-align: top;\n",
              "    }\n",
              "\n",
              "    .dataframe thead th {\n",
              "        text-align: right;\n",
              "    }\n",
              "</style>\n",
              "<table border=\"1\" class=\"dataframe\">\n",
              "  <thead>\n",
              "    <tr style=\"text-align: right;\">\n",
              "      <th></th>\n",
              "      <th>age</th>\n",
              "      <th>TSH</th>\n",
              "      <th>T3</th>\n",
              "      <th>TT4</th>\n",
              "      <th>T4U</th>\n",
              "      <th>FTI</th>\n",
              "      <th>TBG</th>\n",
              "      <th>patient_id</th>\n",
              "    </tr>\n",
              "  </thead>\n",
              "  <tbody>\n",
              "    <tr>\n",
              "      <th>count</th>\n",
              "      <td>9172.000000</td>\n",
              "      <td>8330.000000</td>\n",
              "      <td>6568.000000</td>\n",
              "      <td>8730.000000</td>\n",
              "      <td>8363.000000</td>\n",
              "      <td>8370.000000</td>\n",
              "      <td>349.000000</td>\n",
              "      <td>9.172000e+03</td>\n",
              "    </tr>\n",
              "    <tr>\n",
              "      <th>mean</th>\n",
              "      <td>73.555822</td>\n",
              "      <td>5.218403</td>\n",
              "      <td>1.970629</td>\n",
              "      <td>108.700305</td>\n",
              "      <td>0.976056</td>\n",
              "      <td>113.640746</td>\n",
              "      <td>29.870057</td>\n",
              "      <td>8.529473e+08</td>\n",
              "    </tr>\n",
              "    <tr>\n",
              "      <th>std</th>\n",
              "      <td>1183.976718</td>\n",
              "      <td>24.184006</td>\n",
              "      <td>0.887579</td>\n",
              "      <td>37.522670</td>\n",
              "      <td>0.200360</td>\n",
              "      <td>41.551650</td>\n",
              "      <td>21.080504</td>\n",
              "      <td>7.581969e+06</td>\n",
              "    </tr>\n",
              "    <tr>\n",
              "      <th>min</th>\n",
              "      <td>1.000000</td>\n",
              "      <td>0.005000</td>\n",
              "      <td>0.050000</td>\n",
              "      <td>2.000000</td>\n",
              "      <td>0.170000</td>\n",
              "      <td>1.400000</td>\n",
              "      <td>0.100000</td>\n",
              "      <td>8.408010e+08</td>\n",
              "    </tr>\n",
              "    <tr>\n",
              "      <th>25%</th>\n",
              "      <td>37.000000</td>\n",
              "      <td>0.460000</td>\n",
              "      <td>1.500000</td>\n",
              "      <td>87.000000</td>\n",
              "      <td>0.860000</td>\n",
              "      <td>93.000000</td>\n",
              "      <td>21.000000</td>\n",
              "      <td>8.504090e+08</td>\n",
              "    </tr>\n",
              "    <tr>\n",
              "      <th>50%</th>\n",
              "      <td>55.000000</td>\n",
              "      <td>1.400000</td>\n",
              "      <td>1.900000</td>\n",
              "      <td>104.000000</td>\n",
              "      <td>0.960000</td>\n",
              "      <td>109.000000</td>\n",
              "      <td>26.000000</td>\n",
              "      <td>8.510040e+08</td>\n",
              "    </tr>\n",
              "    <tr>\n",
              "      <th>75%</th>\n",
              "      <td>68.000000</td>\n",
              "      <td>2.700000</td>\n",
              "      <td>2.300000</td>\n",
              "      <td>126.000000</td>\n",
              "      <td>1.065000</td>\n",
              "      <td>128.000000</td>\n",
              "      <td>31.000000</td>\n",
              "      <td>8.607110e+08</td>\n",
              "    </tr>\n",
              "    <tr>\n",
              "      <th>max</th>\n",
              "      <td>65526.000000</td>\n",
              "      <td>530.000000</td>\n",
              "      <td>18.000000</td>\n",
              "      <td>600.000000</td>\n",
              "      <td>2.330000</td>\n",
              "      <td>881.000000</td>\n",
              "      <td>200.000000</td>\n",
              "      <td>8.701190e+08</td>\n",
              "    </tr>\n",
              "  </tbody>\n",
              "</table>\n",
              "</div>\n",
              "    <div class=\"colab-df-buttons\">\n",
              "\n",
              "  <div class=\"colab-df-container\">\n",
              "    <button class=\"colab-df-convert\" onclick=\"convertToInteractive('df-46ee32af-3d68-4b6c-90af-27cdcaf83796')\"\n",
              "            title=\"Convert this dataframe to an interactive table.\"\n",
              "            style=\"display:none;\">\n",
              "\n",
              "  <svg xmlns=\"http://www.w3.org/2000/svg\" height=\"24px\" viewBox=\"0 -960 960 960\">\n",
              "    <path d=\"M120-120v-720h720v720H120Zm60-500h600v-160H180v160Zm220 220h160v-160H400v160Zm0 220h160v-160H400v160ZM180-400h160v-160H180v160Zm440 0h160v-160H620v160ZM180-180h160v-160H180v160Zm440 0h160v-160H620v160Z\"/>\n",
              "  </svg>\n",
              "    </button>\n",
              "\n",
              "  <style>\n",
              "    .colab-df-container {\n",
              "      display:flex;\n",
              "      gap: 12px;\n",
              "    }\n",
              "\n",
              "    .colab-df-convert {\n",
              "      background-color: #E8F0FE;\n",
              "      border: none;\n",
              "      border-radius: 50%;\n",
              "      cursor: pointer;\n",
              "      display: none;\n",
              "      fill: #1967D2;\n",
              "      height: 32px;\n",
              "      padding: 0 0 0 0;\n",
              "      width: 32px;\n",
              "    }\n",
              "\n",
              "    .colab-df-convert:hover {\n",
              "      background-color: #E2EBFA;\n",
              "      box-shadow: 0px 1px 2px rgba(60, 64, 67, 0.3), 0px 1px 3px 1px rgba(60, 64, 67, 0.15);\n",
              "      fill: #174EA6;\n",
              "    }\n",
              "\n",
              "    .colab-df-buttons div {\n",
              "      margin-bottom: 4px;\n",
              "    }\n",
              "\n",
              "    [theme=dark] .colab-df-convert {\n",
              "      background-color: #3B4455;\n",
              "      fill: #D2E3FC;\n",
              "    }\n",
              "\n",
              "    [theme=dark] .colab-df-convert:hover {\n",
              "      background-color: #434B5C;\n",
              "      box-shadow: 0px 1px 3px 1px rgba(0, 0, 0, 0.15);\n",
              "      filter: drop-shadow(0px 1px 2px rgba(0, 0, 0, 0.3));\n",
              "      fill: #FFFFFF;\n",
              "    }\n",
              "  </style>\n",
              "\n",
              "    <script>\n",
              "      const buttonEl =\n",
              "        document.querySelector('#df-46ee32af-3d68-4b6c-90af-27cdcaf83796 button.colab-df-convert');\n",
              "      buttonEl.style.display =\n",
              "        google.colab.kernel.accessAllowed ? 'block' : 'none';\n",
              "\n",
              "      async function convertToInteractive(key) {\n",
              "        const element = document.querySelector('#df-46ee32af-3d68-4b6c-90af-27cdcaf83796');\n",
              "        const dataTable =\n",
              "          await google.colab.kernel.invokeFunction('convertToInteractive',\n",
              "                                                    [key], {});\n",
              "        if (!dataTable) return;\n",
              "\n",
              "        const docLinkHtml = 'Like what you see? Visit the ' +\n",
              "          '<a target=\"_blank\" href=https://colab.research.google.com/notebooks/data_table.ipynb>data table notebook</a>'\n",
              "          + ' to learn more about interactive tables.';\n",
              "        element.innerHTML = '';\n",
              "        dataTable['output_type'] = 'display_data';\n",
              "        await google.colab.output.renderOutput(dataTable, element);\n",
              "        const docLink = document.createElement('div');\n",
              "        docLink.innerHTML = docLinkHtml;\n",
              "        element.appendChild(docLink);\n",
              "      }\n",
              "    </script>\n",
              "  </div>\n",
              "\n",
              "\n",
              "<div id=\"df-3594b91b-244c-4f19-9bac-3c318c796494\">\n",
              "  <button class=\"colab-df-quickchart\" onclick=\"quickchart('df-3594b91b-244c-4f19-9bac-3c318c796494')\"\n",
              "            title=\"Suggest charts\"\n",
              "            style=\"display:none;\">\n",
              "\n",
              "<svg xmlns=\"http://www.w3.org/2000/svg\" height=\"24px\"viewBox=\"0 0 24 24\"\n",
              "     width=\"24px\">\n",
              "    <g>\n",
              "        <path d=\"M19 3H5c-1.1 0-2 .9-2 2v14c0 1.1.9 2 2 2h14c1.1 0 2-.9 2-2V5c0-1.1-.9-2-2-2zM9 17H7v-7h2v7zm4 0h-2V7h2v10zm4 0h-2v-4h2v4z\"/>\n",
              "    </g>\n",
              "</svg>\n",
              "  </button>\n",
              "\n",
              "<style>\n",
              "  .colab-df-quickchart {\n",
              "      --bg-color: #E8F0FE;\n",
              "      --fill-color: #1967D2;\n",
              "      --hover-bg-color: #E2EBFA;\n",
              "      --hover-fill-color: #174EA6;\n",
              "      --disabled-fill-color: #AAA;\n",
              "      --disabled-bg-color: #DDD;\n",
              "  }\n",
              "\n",
              "  [theme=dark] .colab-df-quickchart {\n",
              "      --bg-color: #3B4455;\n",
              "      --fill-color: #D2E3FC;\n",
              "      --hover-bg-color: #434B5C;\n",
              "      --hover-fill-color: #FFFFFF;\n",
              "      --disabled-bg-color: #3B4455;\n",
              "      --disabled-fill-color: #666;\n",
              "  }\n",
              "\n",
              "  .colab-df-quickchart {\n",
              "    background-color: var(--bg-color);\n",
              "    border: none;\n",
              "    border-radius: 50%;\n",
              "    cursor: pointer;\n",
              "    display: none;\n",
              "    fill: var(--fill-color);\n",
              "    height: 32px;\n",
              "    padding: 0;\n",
              "    width: 32px;\n",
              "  }\n",
              "\n",
              "  .colab-df-quickchart:hover {\n",
              "    background-color: var(--hover-bg-color);\n",
              "    box-shadow: 0 1px 2px rgba(60, 64, 67, 0.3), 0 1px 3px 1px rgba(60, 64, 67, 0.15);\n",
              "    fill: var(--button-hover-fill-color);\n",
              "  }\n",
              "\n",
              "  .colab-df-quickchart-complete:disabled,\n",
              "  .colab-df-quickchart-complete:disabled:hover {\n",
              "    background-color: var(--disabled-bg-color);\n",
              "    fill: var(--disabled-fill-color);\n",
              "    box-shadow: none;\n",
              "  }\n",
              "\n",
              "  .colab-df-spinner {\n",
              "    border: 2px solid var(--fill-color);\n",
              "    border-color: transparent;\n",
              "    border-bottom-color: var(--fill-color);\n",
              "    animation:\n",
              "      spin 1s steps(1) infinite;\n",
              "  }\n",
              "\n",
              "  @keyframes spin {\n",
              "    0% {\n",
              "      border-color: transparent;\n",
              "      border-bottom-color: var(--fill-color);\n",
              "      border-left-color: var(--fill-color);\n",
              "    }\n",
              "    20% {\n",
              "      border-color: transparent;\n",
              "      border-left-color: var(--fill-color);\n",
              "      border-top-color: var(--fill-color);\n",
              "    }\n",
              "    30% {\n",
              "      border-color: transparent;\n",
              "      border-left-color: var(--fill-color);\n",
              "      border-top-color: var(--fill-color);\n",
              "      border-right-color: var(--fill-color);\n",
              "    }\n",
              "    40% {\n",
              "      border-color: transparent;\n",
              "      border-right-color: var(--fill-color);\n",
              "      border-top-color: var(--fill-color);\n",
              "    }\n",
              "    60% {\n",
              "      border-color: transparent;\n",
              "      border-right-color: var(--fill-color);\n",
              "    }\n",
              "    80% {\n",
              "      border-color: transparent;\n",
              "      border-right-color: var(--fill-color);\n",
              "      border-bottom-color: var(--fill-color);\n",
              "    }\n",
              "    90% {\n",
              "      border-color: transparent;\n",
              "      border-bottom-color: var(--fill-color);\n",
              "    }\n",
              "  }\n",
              "</style>\n",
              "\n",
              "  <script>\n",
              "    async function quickchart(key) {\n",
              "      const quickchartButtonEl =\n",
              "        document.querySelector('#' + key + ' button');\n",
              "      quickchartButtonEl.disabled = true;  // To prevent multiple clicks.\n",
              "      quickchartButtonEl.classList.add('colab-df-spinner');\n",
              "      try {\n",
              "        const charts = await google.colab.kernel.invokeFunction(\n",
              "            'suggestCharts', [key], {});\n",
              "      } catch (error) {\n",
              "        console.error('Error during call to suggestCharts:', error);\n",
              "      }\n",
              "      quickchartButtonEl.classList.remove('colab-df-spinner');\n",
              "      quickchartButtonEl.classList.add('colab-df-quickchart-complete');\n",
              "    }\n",
              "    (() => {\n",
              "      let quickchartButtonEl =\n",
              "        document.querySelector('#df-3594b91b-244c-4f19-9bac-3c318c796494 button');\n",
              "      quickchartButtonEl.style.display =\n",
              "        google.colab.kernel.accessAllowed ? 'block' : 'none';\n",
              "    })();\n",
              "  </script>\n",
              "</div>\n",
              "\n",
              "    </div>\n",
              "  </div>\n"
            ],
            "application/vnd.google.colaboratory.intrinsic+json": {
              "type": "dataframe",
              "summary": "{\n  \"name\": \"thyroid_data\",\n  \"rows\": 8,\n  \"fields\": [\n    {\n      \"column\": \"age\",\n      \"properties\": {\n        \"dtype\": \"number\",\n        \"std\": 22850.391289511863,\n        \"min\": 1.0,\n        \"max\": 65526.0,\n        \"num_unique_values\": 8,\n        \"samples\": [\n          73.55582206716092,\n          55.0,\n          9172.0\n        ],\n        \"semantic_type\": \"\",\n        \"description\": \"\"\n      }\n    },\n    {\n      \"column\": \"TSH\",\n      \"properties\": {\n        \"dtype\": \"number\",\n        \"std\": 2922.391132658491,\n        \"min\": 0.005,\n        \"max\": 8330.0,\n        \"num_unique_values\": 8,\n        \"samples\": [\n          5.218402753781513,\n          1.4,\n          8330.0\n        ],\n        \"semantic_type\": \"\",\n        \"description\": \"\"\n      }\n    },\n    {\n      \"column\": \"T3\",\n      \"properties\": {\n        \"dtype\": \"number\",\n        \"std\": 2320.802098018125,\n        \"min\": 0.05,\n        \"max\": 6568.0,\n        \"num_unique_values\": 8,\n        \"samples\": [\n          1.970628805724726,\n          1.9,\n          6568.0\n        ],\n        \"semantic_type\": \"\",\n        \"description\": \"\"\n      }\n    },\n    {\n      \"column\": \"TT4\",\n      \"properties\": {\n        \"dtype\": \"number\",\n        \"std\": 3038.4932724162354,\n        \"min\": 2.0,\n        \"max\": 8730.0,\n        \"num_unique_values\": 8,\n        \"samples\": [\n          108.70030469644902,\n          104.0,\n          8730.0\n        ],\n        \"semantic_type\": \"\",\n        \"description\": \"\"\n      }\n    },\n    {\n      \"column\": \"T4U\",\n      \"properties\": {\n        \"dtype\": \"number\",\n        \"std\": 2956.435678764185,\n        \"min\": 0.17,\n        \"max\": 8363.0,\n        \"num_unique_values\": 8,\n        \"samples\": [\n          0.9760557216309935,\n          0.96,\n          8363.0\n        ],\n        \"semantic_type\": \"\",\n        \"description\": \"\"\n      }\n    },\n    {\n      \"column\": \"FTI\",\n      \"properties\": {\n        \"dtype\": \"number\",\n        \"std\": 2903.9881324020707,\n        \"min\": 1.4,\n        \"max\": 8370.0,\n        \"num_unique_values\": 8,\n        \"samples\": [\n          113.64074551935484,\n          109.0,\n          8370.0\n        ],\n        \"semantic_type\": \"\",\n        \"description\": \"\"\n      }\n    },\n    {\n      \"column\": \"TBG\",\n      \"properties\": {\n        \"dtype\": \"number\",\n        \"std\": 124.06596605402734,\n        \"min\": 0.1,\n        \"max\": 349.0,\n        \"num_unique_values\": 8,\n        \"samples\": [\n          29.87005729512894,\n          26.0,\n          349.0\n        ],\n        \"semantic_type\": \"\",\n        \"description\": \"\"\n      }\n    },\n    {\n      \"column\": \"patient_id\",\n      \"properties\": {\n        \"dtype\": \"number\",\n        \"std\": 393817971.36636555,\n        \"min\": 9172.0,\n        \"max\": 870119035.0,\n        \"num_unique_values\": 8,\n        \"samples\": [\n          852947346.6122983,\n          851004026.5,\n          9172.0\n        ],\n        \"semantic_type\": \"\",\n        \"description\": \"\"\n      }\n    }\n  ]\n}"
            }
          },
          "metadata": {},
          "execution_count": 17
        }
      ]
    },
    {
      "cell_type": "code",
      "source": [
        "filtered=thyroid_data[thyroid_data['age'] > 30]\n",
        "print(filtered) #2-a"
      ],
      "metadata": {
        "colab": {
          "base_uri": "https://localhost:8080/"
        },
        "id": "BZtsMLRuFZoU",
        "outputId": "ee8417f0-4db9-44ee-b3e2-ac870196d208"
      },
      "execution_count": null,
      "outputs": [
        {
          "output_type": "stream",
          "name": "stdout",
          "text": [
            "      age sex on_thyroxine query_on_thyroxine on_antithyroid_meds sick  \\\n",
            "2      41   F            f                  f                   f    f   \n",
            "3      36   F            f                  f                   f    f   \n",
            "4      32   F            f                  f                   f    f   \n",
            "5      60   F            f                  f                   f    f   \n",
            "6      77   F            f                  f                   f    f   \n",
            "...   ...  ..          ...                ...                 ...  ...   \n",
            "9166   70   F            f                  f                   f    f   \n",
            "9167   56   M            f                  f                   f    f   \n",
            "9169   69   M            f                  f                   f    f   \n",
            "9170   47   F            f                  f                   f    f   \n",
            "9171   31   M            f                  f                   f    f   \n",
            "\n",
            "     pregnant thyroid_surgery I131_treatment query_hypothyroid  ...    TT4  \\\n",
            "2           f               f              f                 f  ...    NaN   \n",
            "3           f               f              f                 f  ...    NaN   \n",
            "4           f               f              f                 f  ...    NaN   \n",
            "5           f               f              f                 f  ...    NaN   \n",
            "6           f               f              f                 f  ...    NaN   \n",
            "...       ...             ...            ...               ...  ...    ...   \n",
            "9166        f               f              f                 f  ...   88.0   \n",
            "9167        f               f              f                 f  ...   64.0   \n",
            "9169        f               f              f                 f  ...  113.0   \n",
            "9170        f               f              f                 f  ...   75.0   \n",
            "9171        f               f              f                 t  ...   66.0   \n",
            "\n",
            "     T4U_measured   T4U FTI_measured    FTI TBG_measured   TBG  \\\n",
            "2               f   NaN            f    NaN            t  11.0   \n",
            "3               f   NaN            f    NaN            t  26.0   \n",
            "4               f   NaN            f    NaN            t  36.0   \n",
            "5               f   NaN            f    NaN            t  26.0   \n",
            "6               f   NaN            f    NaN            t  21.0   \n",
            "...           ...   ...          ...    ...          ...   ...   \n",
            "9166            t  0.74            t  119.0            f   NaN   \n",
            "9167            t  0.83            t   77.0            f   NaN   \n",
            "9169            t  1.27            t   89.0            f   NaN   \n",
            "9170            t  0.85            t   88.0            f   NaN   \n",
            "9171            t  1.02            t   65.0            f   NaN   \n",
            "\n",
            "      referral_source target  patient_id  \n",
            "2               other      -   840801042  \n",
            "3               other      -   840803046  \n",
            "4               other      S   840803047  \n",
            "5               other      -   840803048  \n",
            "6               other      -   840803068  \n",
            "...               ...    ...         ...  \n",
            "9166              SVI      -   870119021  \n",
            "9167              SVI      -   870119022  \n",
            "9169              SVI      I   870119025  \n",
            "9170            other      -   870119027  \n",
            "9171            other      -   870119035  \n",
            "\n",
            "[7641 rows x 31 columns]\n"
          ]
        }
      ]
    },
    {
      "cell_type": "code",
      "source": [
        "#2-b\n",
        "Tnames = thyroid_data[thyroid_data['FTI_measured'].str.startswith('t')]['FTI_measured'].count()\n",
        "print(Tnames)"
      ],
      "metadata": {
        "id": "BPOZkSCuGBAE",
        "colab": {
          "base_uri": "https://localhost:8080/"
        },
        "outputId": "84d230d7-0bfe-42c3-d18d-25bb92370047"
      },
      "execution_count": null,
      "outputs": [
        {
          "output_type": "stream",
          "name": "stdout",
          "text": [
            "8370\n"
          ]
        }
      ]
    },
    {
      "cell_type": "code",
      "source": [
        "#2-c\n",
        "print(thyroid_data.duplicated())\n",
        "dupsTotal = thyroid_data.duplicated().sum()\n",
        "print(\"number\",dupsTotal)\n",
        "thyroid_data.drop_duplicates(inplace=True)#inplace=true to edit the original date itself\n",
        "\n",
        "print(\"---------------------------------------------------\")\n"
      ],
      "metadata": {
        "colab": {
          "base_uri": "https://localhost:8080/"
        },
        "id": "SKwc2GVIGESZ",
        "outputId": "1a3be641-06dd-4a4b-8896-a098cf9f2314"
      },
      "execution_count": null,
      "outputs": [
        {
          "output_type": "stream",
          "name": "stdout",
          "text": [
            "0       False\n",
            "1       False\n",
            "2       False\n",
            "3       False\n",
            "4       False\n",
            "        ...  \n",
            "9167    False\n",
            "9168    False\n",
            "9169    False\n",
            "9170    False\n",
            "9171    False\n",
            "Length: 9172, dtype: bool\n",
            "number 0\n",
            "---------------------------------------------------\n"
          ]
        }
      ]
    },
    {
      "cell_type": "code",
      "source": [
        "#2_d\n",
        "print(thyroid_data['TBG'])\n",
        "thyroid_data['TBG'] = thyroid_data['TBG'].astype(str)\n",
        "print(thyroid_data['TBG'])\n",
        "\n",
        "\n"
      ],
      "metadata": {
        "colab": {
          "base_uri": "https://localhost:8080/"
        },
        "id": "U5ldWMXaGQLl",
        "outputId": "365021dc-08aa-4e35-a8e9-9828ff2db336"
      },
      "execution_count": null,
      "outputs": [
        {
          "output_type": "stream",
          "name": "stdout",
          "text": [
            "0        NaN\n",
            "1        NaN\n",
            "2       11.0\n",
            "3       26.0\n",
            "4       36.0\n",
            "        ... \n",
            "9167     NaN\n",
            "9168     NaN\n",
            "9169     NaN\n",
            "9170     NaN\n",
            "9171     NaN\n",
            "Name: TBG, Length: 9172, dtype: float64\n",
            "0        nan\n",
            "1        nan\n",
            "2       11.0\n",
            "3       26.0\n",
            "4       36.0\n",
            "        ... \n",
            "9167     nan\n",
            "9168     nan\n",
            "9169     nan\n",
            "9170     nan\n",
            "9171     nan\n",
            "Name: TBG, Length: 9172, dtype: object\n"
          ]
        },
        {
          "output_type": "execute_result",
          "data": {
            "text/plain": [
              "<pandas.core.groupby.generic.DataFrameGroupBy object at 0x78be9cd8a530>"
            ]
          },
          "metadata": {},
          "execution_count": 5
        }
      ]
    },
    {
      "cell_type": "code",
      "source": [
        "#2-e\n",
        "print(thyroid_data.groupby(['sick','sex']))"
      ],
      "metadata": {
        "colab": {
          "base_uri": "https://localhost:8080/"
        },
        "id": "aSiMj51eE6eO",
        "outputId": "eca328a9-7158-482a-b49f-2a89f313849d"
      },
      "execution_count": null,
      "outputs": [
        {
          "output_type": "stream",
          "name": "stdout",
          "text": [
            "<pandas.core.groupby.generic.DataFrameGroupBy object at 0x78be9cd8bd30>\n"
          ]
        }
      ]
    },
    {
      "cell_type": "code",
      "source": [
        "#2-f\n",
        "thyroid_data.isnull().sum().any()\n",
        "#there are\n",
        "#.sum() sums up all the true values and .any()checks if there are any true values"
      ],
      "metadata": {
        "colab": {
          "base_uri": "https://localhost:8080/"
        },
        "id": "lUxfR9PtGUY7",
        "outputId": "9c3cf621-f5ca-490e-e6d6-256cc15a4bf5"
      },
      "execution_count": null,
      "outputs": [
        {
          "output_type": "execute_result",
          "data": {
            "text/plain": [
              "True"
            ]
          },
          "metadata": {},
          "execution_count": 24
        }
      ]
    },
    {
      "cell_type": "code",
      "source": [
        "# 2-g\n",
        "print (thyroid_data)\n",
        "thyroid_data.fillna(thyroid_data.mode(),inplace=True)#numirical\n",
        "thyroid_data.fillna(thyroid_data.mode().iloc[0], inplace=True)#categorical\n",
        "#iloc[o] is to access the first mode in case there were multiples\n",
        "print(\"-----------------------------------------\")\n",
        "print(thyroid_data)\n"
      ],
      "metadata": {
        "colab": {
          "base_uri": "https://localhost:8080/"
        },
        "id": "TrV-hdFFGdO_",
        "outputId": "6ce3b4e2-7b3c-41d6-f2a3-afbc7d43e2d7"
      },
      "execution_count": null,
      "outputs": [
        {
          "output_type": "stream",
          "name": "stdout",
          "text": [
            "      age sex on_thyroxine query_on_thyroxine on_antithyroid_meds sick  \\\n",
            "0      29   F            f                  f                   f    f   \n",
            "1      29   F            f                  f                   f    f   \n",
            "2      41   F            f                  f                   f    f   \n",
            "3      36   F            f                  f                   f    f   \n",
            "4      32   F            f                  f                   f    f   \n",
            "...   ...  ..          ...                ...                 ...  ...   \n",
            "9167   56   M            f                  f                   f    f   \n",
            "9168   22   M            f                  f                   f    f   \n",
            "9169   69   M            f                  f                   f    f   \n",
            "9170   47   F            f                  f                   f    f   \n",
            "9171   31   M            f                  f                   f    f   \n",
            "\n",
            "     pregnant thyroid_surgery I131_treatment query_hypothyroid  ...    TT4  \\\n",
            "0           f               f              f                 t  ...    NaN   \n",
            "1           f               f              f                 f  ...  128.0   \n",
            "2           f               f              f                 f  ...    NaN   \n",
            "3           f               f              f                 f  ...    NaN   \n",
            "4           f               f              f                 f  ...    NaN   \n",
            "...       ...             ...            ...               ...  ...    ...   \n",
            "9167        f               f              f                 f  ...   64.0   \n",
            "9168        f               f              f                 f  ...   91.0   \n",
            "9169        f               f              f                 f  ...  113.0   \n",
            "9170        f               f              f                 f  ...   75.0   \n",
            "9171        f               f              f                 t  ...   66.0   \n",
            "\n",
            "     T4U_measured   T4U FTI_measured   FTI TBG_measured   TBG  \\\n",
            "0               f   NaN            f   NaN            f   NaN   \n",
            "1               f   NaN            f   NaN            f   NaN   \n",
            "2               f   NaN            f   NaN            t  11.0   \n",
            "3               f   NaN            f   NaN            t  26.0   \n",
            "4               f   NaN            f   NaN            t  36.0   \n",
            "...           ...   ...          ...   ...          ...   ...   \n",
            "9167            t  0.83            t  77.0            f   NaN   \n",
            "9168            t  0.92            t  99.0            f   NaN   \n",
            "9169            t  1.27            t  89.0            f   NaN   \n",
            "9170            t  0.85            t  88.0            f   NaN   \n",
            "9171            t  1.02            t  65.0            f   NaN   \n",
            "\n",
            "      referral_source target  patient_id  \n",
            "0               other      -   840801013  \n",
            "1               other      -   840801014  \n",
            "2               other      -   840801042  \n",
            "3               other      -   840803046  \n",
            "4               other      S   840803047  \n",
            "...               ...    ...         ...  \n",
            "9167              SVI      -   870119022  \n",
            "9168              SVI      -   870119023  \n",
            "9169              SVI      I   870119025  \n",
            "9170            other      -   870119027  \n",
            "9171            other      -   870119035  \n",
            "\n",
            "[9172 rows x 31 columns]\n",
            "-----------------------------------------\n",
            "      age sex on_thyroxine query_on_thyroxine on_antithyroid_meds sick  \\\n",
            "0      29   F            f                  f                   f    f   \n",
            "1      29   F            f                  f                   f    f   \n",
            "2      41   F            f                  f                   f    f   \n",
            "3      36   F            f                  f                   f    f   \n",
            "4      32   F            f                  f                   f    f   \n",
            "...   ...  ..          ...                ...                 ...  ...   \n",
            "9167   56   M            f                  f                   f    f   \n",
            "9168   22   M            f                  f                   f    f   \n",
            "9169   69   M            f                  f                   f    f   \n",
            "9170   47   F            f                  f                   f    f   \n",
            "9171   31   M            f                  f                   f    f   \n",
            "\n",
            "     pregnant thyroid_surgery I131_treatment query_hypothyroid  ...    TT4  \\\n",
            "0           f               f              f                 t  ...  101.0   \n",
            "1           f               f              f                 f  ...  128.0   \n",
            "2           f               f              f                 f  ...  101.0   \n",
            "3           f               f              f                 f  ...  101.0   \n",
            "4           f               f              f                 f  ...  101.0   \n",
            "...       ...             ...            ...               ...  ...    ...   \n",
            "9167        f               f              f                 f  ...   64.0   \n",
            "9168        f               f              f                 f  ...   91.0   \n",
            "9169        f               f              f                 f  ...  113.0   \n",
            "9170        f               f              f                 f  ...   75.0   \n",
            "9171        f               f              f                 t  ...   66.0   \n",
            "\n",
            "     T4U_measured   T4U FTI_measured    FTI TBG_measured   TBG  \\\n",
            "0               f  0.96            f  107.0            f  24.0   \n",
            "1               f  0.96            f  107.0            f  24.0   \n",
            "2               f  0.96            f  107.0            t  11.0   \n",
            "3               f  0.96            f  107.0            t  26.0   \n",
            "4               f  0.96            f  107.0            t  36.0   \n",
            "...           ...   ...          ...    ...          ...   ...   \n",
            "9167            t  0.83            t   77.0            f  24.0   \n",
            "9168            t  0.92            t   99.0            f  24.0   \n",
            "9169            t  1.27            t   89.0            f  24.0   \n",
            "9170            t  0.85            t   88.0            f  24.0   \n",
            "9171            t  1.02            t   65.0            f  24.0   \n",
            "\n",
            "      referral_source target  patient_id  \n",
            "0               other      -   840801013  \n",
            "1               other      -   840801014  \n",
            "2               other      -   840801042  \n",
            "3               other      -   840803046  \n",
            "4               other      S   840803047  \n",
            "...               ...    ...         ...  \n",
            "9167              SVI      -   870119022  \n",
            "9168              SVI      -   870119023  \n",
            "9169              SVI      I   870119025  \n",
            "9170            other      -   870119027  \n",
            "9171            other      -   870119035  \n",
            "\n",
            "[9172 rows x 31 columns]\n"
          ]
        }
      ]
    },
    {
      "cell_type": "code",
      "source": [
        "#2-h\n",
        "bins=pd.cut(thyroid_data[\"age\"], bins=6)\n",
        "bin_counts = bins.value_counts().sort_index()\n",
        "print(bins)\n",
        "print(bin_counts)"
      ],
      "metadata": {
        "id": "AAON5aytKW3D",
        "colab": {
          "base_uri": "https://localhost:8080/"
        },
        "outputId": "26a8b8e7-4029-4aee-9af6-834ce5240d9f"
      },
      "execution_count": null,
      "outputs": [
        {
          "output_type": "stream",
          "name": "stdout",
          "text": [
            "0       (-64.525, 10921.833]\n",
            "1       (-64.525, 10921.833]\n",
            "2       (-64.525, 10921.833]\n",
            "3       (-64.525, 10921.833]\n",
            "4       (-64.525, 10921.833]\n",
            "                ...         \n",
            "9167    (-64.525, 10921.833]\n",
            "9168    (-64.525, 10921.833]\n",
            "9169    (-64.525, 10921.833]\n",
            "9170    (-64.525, 10921.833]\n",
            "9171    (-64.525, 10921.833]\n",
            "Name: age, Length: 9172, dtype: category\n",
            "Categories (6, interval[float64, right]): [(-64.525, 10921.833] < (10921.833, 21842.667] <\n",
            "                                           (21842.667, 32763.5] < (32763.5, 43684.333] <\n",
            "                                           (43684.333, 54605.167] < (54605.167, 65526.0]]\n",
            "(-64.525, 10921.833]      9169\n",
            "(10921.833, 21842.667]       0\n",
            "(21842.667, 32763.5]         0\n",
            "(32763.5, 43684.333]         0\n",
            "(43684.333, 54605.167]       0\n",
            "(54605.167, 65526.0]         3\n",
            "Name: age, dtype: int64\n"
          ]
        }
      ]
    },
    {
      "cell_type": "code",
      "source": [
        "#2-i\n",
        "max_row = thyroid_data[thyroid_data['age'] == thyroid_data['age'].max()]\n",
        "print(max_row)"
      ],
      "metadata": {
        "colab": {
          "base_uri": "https://localhost:8080/"
        },
        "id": "9XeMYJqSHRzh",
        "outputId": "15238afc-9126-4391-a906-360b6f8f42c8"
      },
      "execution_count": null,
      "outputs": [
        {
          "output_type": "stream",
          "name": "stdout",
          "text": [
            "        age sex on_thyroxine query_on_thyroxine on_antithyroid_meds sick  \\\n",
            "8105  65526   F            f                  f                   f    f   \n",
            "\n",
            "     pregnant thyroid_surgery I131_treatment query_hypothyroid  ...    TT4  \\\n",
            "8105        f               f              f                 f  ...  132.0   \n",
            "\n",
            "     T4U_measured   T4U FTI_measured    FTI TBG_measured   TBG  \\\n",
            "8105            t  1.02            t  129.0            f  24.0   \n",
            "\n",
            "      referral_source target  patient_id  \n",
            "8105            other      -   861014041  \n",
            "\n",
            "[1 rows x 31 columns]\n"
          ]
        }
      ]
    },
    {
      "cell_type": "code",
      "source": [
        "#2_j\n",
        "import matplotlib.pyplot as plt\n",
        "#boxplot for patient_id attribute\n",
        "\n",
        "\n",
        "plt.boxplot(thyroid_data['patient_id'], vert=False)\n",
        "plt.title('Box plot for patient_id')\n",
        "plt.xlabel('patient_id')\n",
        "plt.show()\n",
        "#patient id was the only attribut with not so skkewed data"
      ],
      "metadata": {
        "colab": {
          "base_uri": "https://localhost:8080/",
          "height": 472
        },
        "id": "5afQyvytHj7D",
        "outputId": "86880fcc-8146-45db-dc92-08e0a4b2cacf"
      },
      "execution_count": null,
      "outputs": [
        {
          "output_type": "display_data",
          "data": {
            "text/plain": [
              "<Figure size 640x480 with 1 Axes>"
            ],
            "image/png": "[encoded data removed]"
          },
          "metadata": {}
        }
      ]
    },
    {
      "cell_type": "code",
      "source": [
        "#2_k\n",
        "\n",
        "#histogram for age column,with range from 0 to 100\n",
        "bins = range(0, 110, 10)#each bin holds 10 numbers\n",
        "\n",
        "plt.hist(thyroid_data[\"age\"], bins=bins, edgecolor='black', alpha=0.7)\n",
        "\n",
        "plt.xlabel(\"Age\")#x axis is age\n",
        "plt.ylabel(\"Number of patients\")#y axis is atient number\n",
        "plt.title(\"Histogram of Age\")#hitsogram title\n",
        "\n",
        "# Show x-axis labels at the center of each bin\n",
        "plt.xticks([i + 5 for i in bins])\n",
        "\n",
        "plt.show()\n"
      ],
      "metadata": {
        "colab": {
          "base_uri": "https://localhost:8080/",
          "height": 472
        },
        "id": "136X1H26H7ZU",
        "outputId": "9a6b9ec3-62a0-4fd5-f42e-adabac619a68"
      },
      "execution_count": null,
      "outputs": [
        {
          "output_type": "display_data",
          "data": {
            "text/plain": [
              "<Figure size 640x480 with 1 Axes>"
            ],
            "image/png": "[encoded data removed]"
          },
          "metadata": {}
        }
      ]
    },
    {
      "cell_type": "code",
      "source": [
        "#2-l\n",
        "thyroid_data = pd.DataFrame({\n",
        "    'age': [25, 45, 32, 68, 22, 55, 75, 42, 88, 95],\n",
        "    'patient_id': [840000000,840801042, 850000000,850110023, 860000000,860210023, 870000000,870119023,870119035, 880000000]\n",
        "})#the scatterplot represnts relation between age and thyroid  patient\n",
        "#we have age range and id range as our values\n",
        "\n",
        "# Define the bins for age\n",
        "#bins = [0, 10, 20, 30, 40, 50, 60, 70, 80, 90, 100]\n",
        "bins=range(0, 110, 10)\n",
        "\n",
        "\n",
        "thyroid_data['age_group'] = pd.cut(thyroid_data['age'], bins)#creating x column\n",
        "\n",
        "\n",
        "thyroid_data['age_group_num'] = pd.factorize(thyroid_data['age_group'])[0]#creating y column\n",
        "\n",
        "#scattterplot\n",
        "plt.scatter(thyroid_data['age_group_num'], thyroid_data['patient_id'])\n",
        "\n",
        "#titles\n",
        "plt.title('Scatter Plot of Age Group vs Patient ID')\n",
        "plt.xlabel('Age Group')\n",
        "plt.ylabel('Patient ID')\n",
        "plt.show()"
      ],
      "metadata": {
        "colab": {
          "base_uri": "https://localhost:8080/",
          "height": 472
        },
        "id": "b4c1XcPVJpsR",
        "outputId": "8b9d555b-4ae4-4d77-c518-11dfaa7d5f5a"
      },
      "execution_count": null,
      "outputs": [
        {
          "output_type": "display_data",
          "data": {
            "text/plain": [
              "<Figure size 640x480 with 1 Axes>"
            ],
            "image/png": "[encoded data removed]"
          },
          "metadata": {}
        }
      ]
    },
    {
      "cell_type": "code",
      "source": [
        "#2-m\n",
        "#strandilizd means data has man of 0 and deviation of 1\n",
        "# Create a StandardScaler object\n",
        "scaler = StandardScaler()\n",
        "\n",
        "# Fit the scaler to the numerical features\n",
        "features = ['age', 'patient_id'] #tbg not ued necause itb was changed to string in a prev part\n",
        "thyroid_data[features] = scaler.fit_transform(thyroid_data[features])\n",
        "\n",
        "# Print the standardized data\n",
        "print(thyroid_data)"
      ],
      "metadata": {
        "colab": {
          "base_uri": "https://localhost:8080/"
        },
        "id": "7bMQFO0DKQkt",
        "outputId": "3cca449c-e37e-4163-b683-0ec54379f34c"
      },
      "execution_count": null,
      "outputs": [
        {
          "output_type": "stream",
          "name": "stdout",
          "text": [
            "        age  patient_id  age_group  age_group_num\n",
            "0 -1.208066   -1.483547   (20, 30]              0\n",
            "1 -0.394554   -1.421445   (40, 50]              1\n",
            "2 -0.923337   -0.708279   (30, 40]              2\n",
            "3  0.540986   -0.699749   (60, 70]              3\n",
            "4 -1.330093    0.066990   (20, 30]              0\n",
            "5  0.012203    0.083272   (50, 60]              4\n",
            "6  0.825715    0.842258   (70, 80]              5\n",
            "7 -0.516580    0.851486   (40, 50]              1\n",
            "8  1.354498    0.851487   (80, 90]              6\n",
            "9  1.639227    1.617527  (90, 100]              7\n"
          ]
        }
      ]
    },
    {
      "cell_type": "code",
      "source": [
        "#2_n\n",
        "\n",
        "#apply pca\n",
        "\n",
        "pca = PCA(n_components=2)\n",
        "pca_data = pca.fit_transform(thyroid_data[features])\n",
        "\n",
        "# Visualize the original data\n",
        "plt.scatter(thyroid_data[\"age\"], thyroid_data[\"patient_id\"])\n",
        "plt.title(\"before pca\")\n",
        "plt.xlabel(\"Age\")\n",
        "plt.ylabel(\"Patient ID\")\n",
        "plt.show()\n",
        "\n",
        "# Visualize the reduced data\n",
        "plt.scatter(pca_data[:, 0], pca_data[:, 1])\n",
        "plt.title(\"Reduced Data (2 Dimensions)\")\n",
        "plt.xlabel(\"Principal Component 1 (PC1)\")\n",
        "plt.ylabel(\"Principalf Component 2 (PC2)\")\n",
        "plt.show()\n",
        "\n",
        "# Print the first 10 rows of the PCA data\n",
        "print(pca_data[:10])"
      ],
      "metadata": {
        "colab": {
          "base_uri": "https://localhost:8080/",
          "height": 1000
        },
        "id": "JxxgxwkIJ-UW",
        "outputId": "5265162e-4e19-4367-f790-9679bfedf624"
      },
      "execution_count": null,
      "outputs": [
        {
          "output_type": "display_data",
          "data": {
            "text/plain": [
              "<Figure size 640x480 with 1 Axes>"
            ],
            "image/png": "[encoded data removed]"
          },
          "metadata": {}
        },
        {
          "output_type": "display_data",
          "data": {
            "text/plain": [
              "<Figure size 640x480 with 1 Axes>"
            ],
            "image/png": "[encoded data removed]"
          },
          "metadata": {}
        },
        {
          "output_type": "stream",
          "name": "stdout",
          "text": [
            "[[-1.90325803 -0.19479484]\n",
            " [-1.28410496 -0.72612203]\n",
            " [-1.15372629  0.15206881]\n",
            " [-0.11226261 -0.87733199]\n",
            " [-0.89314865  0.98788658]\n",
            " [ 0.06751098  0.05025377]\n",
            " [ 1.1794354   0.01169793]\n",
            " [ 0.23681399  0.96736896]\n",
            " [ 1.55986695 -0.35568269]\n",
            " [ 2.30287323 -0.0153445 ]]\n"
          ]
        }
      ]
    }
  ]
}